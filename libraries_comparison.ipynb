{
 "cells": [
  {
   "cell_type": "code",
   "execution_count": 5,
   "id": "55a5ab45-4ada-401c-a446-0980bb2e2d56",
   "metadata": {},
   "outputs": [],
   "source": [
    "from pathlib import Path\n",
    "\n",
    "import pandas as pd\n",
    "\n",
    "from config import ROOT_DIR"
   ]
  },
  {
   "cell_type": "code",
   "execution_count": 6,
   "id": "ac025a06-5f32-41ac-8417-e798490905be",
   "metadata": {},
   "outputs": [],
   "source": [
    "# mar imports\n",
    "from src.mining_association_rules.apriori_df.apriori.apriori import DataFrameRuleGenerator\n",
    "from src.mining_association_rules.apriori_df.interest_measures import BatchConfidence\n",
    "from src.mining_association_rules.apriori_df.interest_measures import BatchSupport"
   ]
  },
  {
   "cell_type": "code",
   "execution_count": 7,
   "id": "a9d37603-e76a-4f44-857d-f3c56d28e99e",
   "metadata": {},
   "outputs": [],
   "source": [
    "# External libraries imports\n",
    "import apyori\n",
    "import efficient_apriori\n",
    "from mlxtend.frequent_patterns import apriori\n",
    "from mlxtend.frequent_patterns import association_rules\n",
    "from mlxtend.preprocessing import TransactionEncoder"
   ]
  },
  {
   "cell_type": "code",
   "execution_count": 8,
   "id": "80cf0611-b0cd-43ad-b12b-4af244398634",
   "metadata": {},
   "outputs": [],
   "source": [
    "# Read dataset and define constant with thresholds\n",
    "path = Path(ROOT_DIR) / \"sources\" / \"survey.csv\"\n",
    "df = pd.read_csv(path)\n",
    "MIN_SUPPORT = 0.4\n",
    "MIN_CONFIDENCE = 0.4"
   ]
  },
  {
   "cell_type": "code",
   "execution_count": 9,
   "id": "4c5b9f84-f984-4d66-b789-e45218bd3a63",
   "metadata": {},
   "outputs": [],
   "source": [
    "# Convert dataset to format required by external libraries\n",
    "transactions = [row[row == 1].index.tolist() for _, row in df.iterrows()]"
   ]
  },
  {
   "cell_type": "markdown",
   "id": "988ecb25-651c-4259-bcb5-c214475fa7ef",
   "metadata": {},
   "source": [
    "### MAR"
   ]
  },
  {
   "cell_type": "code",
   "execution_count": 10,
   "id": "ebcb7c75-338b-4e90-bd88-e3fa6b0f9da0",
   "metadata": {},
   "outputs": [
    {
     "name": "stderr",
     "output_type": "stream",
     "text": [
      "Finding 129 frequent itemsets took 0.0055804740004532505\n",
      "Generating 1180 association rules took 0.059675896998669486\n",
      "Rules generated using df database in 0.06644871999924362 seconds\n"
     ]
    },
    {
     "name": "stdout",
     "output_type": "stream",
     "text": [
      "CPU times: user 64.7 ms, sys: 7.43 ms, total: 72.1 ms\n",
      "Wall time: 69.7 ms\n"
     ]
    }
   ],
   "source": [
    "%%time\n",
    "itemset_measures = {BatchSupport: MIN_SUPPORT}\n",
    "rule_measures = {BatchConfidence: MIN_CONFIDENCE}\n",
    "with DataFrameRuleGenerator(itemset_measures=itemset_measures, rule_measures=rule_measures) as rule_gen:\n",
    "    rules = rule_gen.generate_strong_association_rules(transactions=df)"
   ]
  },
  {
   "cell_type": "markdown",
   "id": "27665ce1-750c-4ece-8e5e-4a2561ca2b04",
   "metadata": {},
   "source": [
    "### efficient-apriori"
   ]
  },
  {
   "cell_type": "code",
   "execution_count": 11,
   "id": "71911b86-3273-4d11-85e6-cc268bccdfaf",
   "metadata": {},
   "outputs": [
    {
     "name": "stdout",
     "output_type": "stream",
     "text": [
      "CPU times: user 22.2 ms, sys: 4.16 ms, total: 26.4 ms\n",
      "Wall time: 25 ms\n"
     ]
    }
   ],
   "source": [
    "%%time\n",
    "itemsets, rules = efficient_apriori.apriori(transactions, min_support=MIN_SUPPORT, min_confidence=MIN_CONFIDENCE)"
   ]
  },
  {
   "cell_type": "markdown",
   "id": "e2f401f5-ada0-47ad-a100-b0c534e1b87d",
   "metadata": {},
   "source": [
    "### apyori"
   ]
  },
  {
   "cell_type": "code",
   "execution_count": 12,
   "id": "5b923db6-6fea-492d-91db-95be9d7cdeaa",
   "metadata": {},
   "outputs": [
    {
     "name": "stdout",
     "output_type": "stream",
     "text": [
      "CPU times: user 195 ms, sys: 4.8 ms, total: 200 ms\n",
      "Wall time: 198 ms\n"
     ]
    }
   ],
   "source": [
    "%%time\n",
    "rules = list(apyori.apriori(transactions, min_support=MIN_SUPPORT, min_confidence=MIN_CONFIDENCE))"
   ]
  },
  {
   "cell_type": "markdown",
   "id": "56384675-7b22-4b41-9a7b-daf3197b31dd",
   "metadata": {},
   "source": [
    "### mlxtend"
   ]
  },
  {
   "cell_type": "code",
   "execution_count": 13,
   "id": "df790788-eeb0-44b9-ba1f-d28ed25b2680",
   "metadata": {},
   "outputs": [
    {
     "name": "stdout",
     "output_type": "stream",
     "text": [
      "CPU times: user 21.9 ms, sys: 3.57 ms, total: 25.4 ms\n",
      "Wall time: 23.3 ms\n"
     ]
    }
   ],
   "source": [
    "%%time\n",
    "te = TransactionEncoder()\n",
    "te_ary = te.fit(transactions).transform(transactions)\n",
    "df = pd.DataFrame(te_ary, columns=te.columns_)\n",
    "frequent_itemsets = apriori(df, min_support=MIN_SUPPORT, use_colnames=True)\n",
    "rules_df = association_rules(frequent_itemsets, metric=\"confidence\", min_threshold=MIN_CONFIDENCE)"
   ]
  },
  {
   "cell_type": "code",
   "execution_count": null,
   "id": "c0f4ffe9-5c2e-4745-9cd8-ea82ecbd01a1",
   "metadata": {},
   "outputs": [],
   "source": []
  }
 ],
 "metadata": {
  "kernelspec": {
   "display_name": "Python 3 (ipykernel)",
   "language": "python",
   "name": "python3"
  },
  "language_info": {
   "codemirror_mode": {
    "name": "ipython",
    "version": 3
   },
   "file_extension": ".py",
   "mimetype": "text/x-python",
   "name": "python",
   "nbconvert_exporter": "python",
   "pygments_lexer": "ipython3",
   "version": "3.12.3"
  }
 },
 "nbformat": 4,
 "nbformat_minor": 5
}
