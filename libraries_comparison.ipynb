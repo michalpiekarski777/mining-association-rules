{
 "cells": [
  {
   "cell_type": "code",
   "execution_count": 1,
   "id": "55a5ab45-4ada-401c-a446-0980bb2e2d56",
   "metadata": {},
   "outputs": [],
   "source": [
    "from pathlib import Path\n",
    "\n",
    "import pandas as pd\n",
    "\n",
    "from config import ROOT_DIR"
   ]
  },
  {
   "cell_type": "code",
   "execution_count": 2,
   "id": "ac025a06-5f32-41ac-8417-e798490905be",
   "metadata": {},
   "outputs": [],
   "source": [
    "# mar imports\n",
    "from src.mar.apriori_df.apriori.apriori import DataFrameRuleGenerator\n",
    "from src.mar.apriori_df.interest_measures import BatchConfidence\n",
    "from src.mar.apriori_df.interest_measures import BatchSupport"
   ]
  },
  {
   "cell_type": "code",
   "execution_count": 7,
   "id": "a9d37603-e76a-4f44-857d-f3c56d28e99e",
   "metadata": {},
   "outputs": [],
   "source": [
    "# External libraries imports\n",
    "import apyori\n",
    "import efficient_apriori\n",
    "from mlxtend.frequent_patterns import apriori\n",
    "from mlxtend.frequent_patterns import association_rules\n",
    "from mlxtend.preprocessing import TransactionEncoder"
   ]
  },
  {
   "cell_type": "code",
   "execution_count": 3,
   "id": "80cf0611-b0cd-43ad-b12b-4af244398634",
   "metadata": {},
   "outputs": [],
   "source": [
    "# Read dataset and define constant with thresholds\n",
    "path = Path(ROOT_DIR) / \"sources\" / \"survey.csv\"\n",
    "df = pd.read_csv(path)\n",
    "MIN_SUPPORT = 0.4\n",
    "MIN_CONFIDENCE = 0.4"
   ]
  },
  {
   "cell_type": "code",
   "execution_count": 4,
   "id": "4c5b9f84-f984-4d66-b789-e45218bd3a63",
   "metadata": {},
   "outputs": [],
   "source": [
    "# Convert dataset to format required by external libraries\n",
    "transactions = [row[row == 1].index.tolist() for _, row in df.iterrows()]"
   ]
  },
  {
   "cell_type": "markdown",
   "id": "988ecb25-651c-4259-bcb5-c214475fa7ef",
   "metadata": {},
   "source": [
    "### MAR"
   ]
  },
  {
   "cell_type": "code",
   "execution_count": 5,
   "id": "ebcb7c75-338b-4e90-bd88-e3fa6b0f9da0",
   "metadata": {},
   "outputs": [
    {
     "name": "stderr",
     "output_type": "stream",
     "text": [
      "Finding 129 frequent itemsets took 0.00294131999999081\n",
      "Generating 1180 association rules took 0.03731217800032027\n",
      "Rules generated using df database in 0.04103628499979095 seconds\n"
     ]
    },
    {
     "name": "stdout",
     "output_type": "stream",
     "text": [
      "CPU times: user 39.6 ms, sys: 4.07 ms, total: 43.7 ms\n",
      "Wall time: 42.2 ms\n"
     ]
    }
   ],
   "source": [
    "%%time\n",
    "itemset_measures = {BatchSupport: MIN_SUPPORT}\n",
    "rule_measures = {BatchConfidence: MIN_CONFIDENCE}\n",
    "with DataFrameRuleGenerator(itemset_measures=itemset_measures, rule_measures=rule_measures) as rule_gen:\n",
    "    rules = rule_gen.generate_strong_association_rules(transactions=df)"
   ]
  },
  {
   "cell_type": "markdown",
   "id": "27665ce1-750c-4ece-8e5e-4a2561ca2b04",
   "metadata": {},
   "source": [
    "### efficient-apriori"
   ]
  },
  {
   "cell_type": "code",
   "execution_count": 11,
   "id": "71911b86-3273-4d11-85e6-cc268bccdfaf",
   "metadata": {},
   "outputs": [
    {
     "name": "stdout",
     "output_type": "stream",
     "text": [
      "CPU times: user 10.8 ms, sys: 2.84 ms, total: 13.6 ms\n",
      "Wall time: 13.5 ms\n"
     ]
    }
   ],
   "source": [
    "%%time\n",
    "itemsets, rules = efficient_apriori.apriori(transactions, min_support=MIN_SUPPORT, min_confidence=MIN_CONFIDENCE)"
   ]
  },
  {
   "cell_type": "markdown",
   "id": "e2f401f5-ada0-47ad-a100-b0c534e1b87d",
   "metadata": {},
   "source": [
    "### apyori"
   ]
  },
  {
   "cell_type": "code",
   "execution_count": 12,
   "id": "5b923db6-6fea-492d-91db-95be9d7cdeaa",
   "metadata": {},
   "outputs": [
    {
     "name": "stdout",
     "output_type": "stream",
     "text": [
      "CPU times: user 195 ms, sys: 4.8 ms, total: 200 ms\n",
      "Wall time: 198 ms\n"
     ]
    }
   ],
   "source": [
    "%%time\n",
    "rules = list(apyori.apriori(transactions, min_support=MIN_SUPPORT, min_confidence=MIN_CONFIDENCE))"
   ]
  },
  {
   "cell_type": "markdown",
   "id": "56384675-7b22-4b41-9a7b-daf3197b31dd",
   "metadata": {},
   "source": [
    "### mlxtend"
   ]
  },
  {
   "cell_type": "code",
   "execution_count": 8,
   "id": "df790788-eeb0-44b9-ba1f-d28ed25b2680",
   "metadata": {},
   "outputs": [
    {
     "name": "stdout",
     "output_type": "stream",
     "text": [
      "CPU times: user 12.6 ms, sys: 224 μs, total: 12.9 ms\n",
      "Wall time: 13.5 ms\n"
     ]
    },
    {
     "data": {
      "text/html": [
       "<div>\n",
       "<style scoped>\n",
       "    .dataframe tbody tr th:only-of-type {\n",
       "        vertical-align: middle;\n",
       "    }\n",
       "\n",
       "    .dataframe tbody tr th {\n",
       "        vertical-align: top;\n",
       "    }\n",
       "\n",
       "    .dataframe thead th {\n",
       "        text-align: right;\n",
       "    }\n",
       "</style>\n",
       "<table border=\"1\" class=\"dataframe\">\n",
       "  <thead>\n",
       "    <tr style=\"text-align: right;\">\n",
       "      <th></th>\n",
       "      <th>antecedents</th>\n",
       "      <th>consequents</th>\n",
       "      <th>antecedent support</th>\n",
       "      <th>consequent support</th>\n",
       "      <th>support</th>\n",
       "      <th>confidence</th>\n",
       "      <th>lift</th>\n",
       "      <th>representativity</th>\n",
       "      <th>leverage</th>\n",
       "      <th>conviction</th>\n",
       "      <th>zhangs_metric</th>\n",
       "      <th>jaccard</th>\n",
       "      <th>certainty</th>\n",
       "      <th>kulczynski</th>\n",
       "    </tr>\n",
       "  </thead>\n",
       "  <tbody>\n",
       "    <tr>\n",
       "      <th>0</th>\n",
       "      <td>(Allegro)</td>\n",
       "      <td>(Chrome)</td>\n",
       "      <td>0.578014</td>\n",
       "      <td>0.771868</td>\n",
       "      <td>0.460993</td>\n",
       "      <td>0.797546</td>\n",
       "      <td>1.033268</td>\n",
       "      <td>1.0</td>\n",
       "      <td>0.014842</td>\n",
       "      <td>1.126836</td>\n",
       "      <td>0.076298</td>\n",
       "      <td>0.518617</td>\n",
       "      <td>0.112559</td>\n",
       "      <td>0.697395</td>\n",
       "    </tr>\n",
       "    <tr>\n",
       "      <th>1</th>\n",
       "      <td>(Chrome)</td>\n",
       "      <td>(Allegro)</td>\n",
       "      <td>0.771868</td>\n",
       "      <td>0.578014</td>\n",
       "      <td>0.460993</td>\n",
       "      <td>0.597243</td>\n",
       "      <td>1.033268</td>\n",
       "      <td>1.0</td>\n",
       "      <td>0.014842</td>\n",
       "      <td>1.047744</td>\n",
       "      <td>0.141132</td>\n",
       "      <td>0.518617</td>\n",
       "      <td>0.045569</td>\n",
       "      <td>0.697395</td>\n",
       "    </tr>\n",
       "    <tr>\n",
       "      <th>2</th>\n",
       "      <td>(Allegro)</td>\n",
       "      <td>(Facebook)</td>\n",
       "      <td>0.578014</td>\n",
       "      <td>0.881797</td>\n",
       "      <td>0.537825</td>\n",
       "      <td>0.930470</td>\n",
       "      <td>1.055198</td>\n",
       "      <td>1.0</td>\n",
       "      <td>0.028134</td>\n",
       "      <td>1.700042</td>\n",
       "      <td>0.123963</td>\n",
       "      <td>0.583333</td>\n",
       "      <td>0.411779</td>\n",
       "      <td>0.770195</td>\n",
       "    </tr>\n",
       "    <tr>\n",
       "      <th>3</th>\n",
       "      <td>(Facebook)</td>\n",
       "      <td>(Allegro)</td>\n",
       "      <td>0.881797</td>\n",
       "      <td>0.578014</td>\n",
       "      <td>0.537825</td>\n",
       "      <td>0.609920</td>\n",
       "      <td>1.055198</td>\n",
       "      <td>1.0</td>\n",
       "      <td>0.028134</td>\n",
       "      <td>1.081792</td>\n",
       "      <td>0.442549</td>\n",
       "      <td>0.583333</td>\n",
       "      <td>0.075608</td>\n",
       "      <td>0.770195</td>\n",
       "    </tr>\n",
       "    <tr>\n",
       "      <th>4</th>\n",
       "      <td>(Allegro)</td>\n",
       "      <td>(Facebook Messenger)</td>\n",
       "      <td>0.578014</td>\n",
       "      <td>0.868794</td>\n",
       "      <td>0.517730</td>\n",
       "      <td>0.895706</td>\n",
       "      <td>1.030975</td>\n",
       "      <td>1.0</td>\n",
       "      <td>0.015555</td>\n",
       "      <td>1.258031</td>\n",
       "      <td>0.071198</td>\n",
       "      <td>0.557252</td>\n",
       "      <td>0.205107</td>\n",
       "      <td>0.745812</td>\n",
       "    </tr>\n",
       "    <tr>\n",
       "      <th>...</th>\n",
       "      <td>...</td>\n",
       "      <td>...</td>\n",
       "      <td>...</td>\n",
       "      <td>...</td>\n",
       "      <td>...</td>\n",
       "      <td>...</td>\n",
       "      <td>...</td>\n",
       "      <td>...</td>\n",
       "      <td>...</td>\n",
       "      <td>...</td>\n",
       "      <td>...</td>\n",
       "      <td>...</td>\n",
       "      <td>...</td>\n",
       "      <td>...</td>\n",
       "    </tr>\n",
       "    <tr>\n",
       "      <th>1175</th>\n",
       "      <td>(Facebook Messenger)</td>\n",
       "      <td>(YouTube, Google Maps, Chrome, Facebook, Gmail)</td>\n",
       "      <td>0.868794</td>\n",
       "      <td>0.531915</td>\n",
       "      <td>0.510638</td>\n",
       "      <td>0.587755</td>\n",
       "      <td>1.104980</td>\n",
       "      <td>1.0</td>\n",
       "      <td>0.048514</td>\n",
       "      <td>1.135454</td>\n",
       "      <td>0.724099</td>\n",
       "      <td>0.573705</td>\n",
       "      <td>0.119295</td>\n",
       "      <td>0.773878</td>\n",
       "    </tr>\n",
       "    <tr>\n",
       "      <th>1176</th>\n",
       "      <td>(Google Maps)</td>\n",
       "      <td>(YouTube, Facebook Messenger, Chrome, Facebook...</td>\n",
       "      <td>0.869976</td>\n",
       "      <td>0.563830</td>\n",
       "      <td>0.510638</td>\n",
       "      <td>0.586957</td>\n",
       "      <td>1.041017</td>\n",
       "      <td>1.0</td>\n",
       "      <td>0.020120</td>\n",
       "      <td>1.055991</td>\n",
       "      <td>0.303030</td>\n",
       "      <td>0.553137</td>\n",
       "      <td>0.053022</td>\n",
       "      <td>0.746308</td>\n",
       "    </tr>\n",
       "    <tr>\n",
       "      <th>1177</th>\n",
       "      <td>(Chrome)</td>\n",
       "      <td>(YouTube, Facebook Messenger, Google Maps, Fac...</td>\n",
       "      <td>0.771868</td>\n",
       "      <td>0.611111</td>\n",
       "      <td>0.510638</td>\n",
       "      <td>0.661562</td>\n",
       "      <td>1.082556</td>\n",
       "      <td>1.0</td>\n",
       "      <td>0.038941</td>\n",
       "      <td>1.149070</td>\n",
       "      <td>0.334281</td>\n",
       "      <td>0.585366</td>\n",
       "      <td>0.129731</td>\n",
       "      <td>0.748576</td>\n",
       "    </tr>\n",
       "    <tr>\n",
       "      <th>1178</th>\n",
       "      <td>(Facebook)</td>\n",
       "      <td>(YouTube, Facebook Messenger, Google Maps, Chr...</td>\n",
       "      <td>0.881797</td>\n",
       "      <td>0.522459</td>\n",
       "      <td>0.510638</td>\n",
       "      <td>0.579088</td>\n",
       "      <td>1.108391</td>\n",
       "      <td>1.0</td>\n",
       "      <td>0.049936</td>\n",
       "      <td>1.134541</td>\n",
       "      <td>0.827315</td>\n",
       "      <td>0.571429</td>\n",
       "      <td>0.118586</td>\n",
       "      <td>0.778232</td>\n",
       "    </tr>\n",
       "    <tr>\n",
       "      <th>1179</th>\n",
       "      <td>(Gmail)</td>\n",
       "      <td>(YouTube, Facebook Messenger, Google Maps, Chr...</td>\n",
       "      <td>0.812057</td>\n",
       "      <td>0.588652</td>\n",
       "      <td>0.510638</td>\n",
       "      <td>0.628821</td>\n",
       "      <td>1.068238</td>\n",
       "      <td>1.0</td>\n",
       "      <td>0.032619</td>\n",
       "      <td>1.108219</td>\n",
       "      <td>0.339885</td>\n",
       "      <td>0.573705</td>\n",
       "      <td>0.097651</td>\n",
       "      <td>0.748145</td>\n",
       "    </tr>\n",
       "  </tbody>\n",
       "</table>\n",
       "<p>1180 rows × 14 columns</p>\n",
       "</div>"
      ],
      "text/plain": [
       "               antecedents                                        consequents  \\\n",
       "0                (Allegro)                                           (Chrome)   \n",
       "1                 (Chrome)                                          (Allegro)   \n",
       "2                (Allegro)                                         (Facebook)   \n",
       "3               (Facebook)                                          (Allegro)   \n",
       "4                (Allegro)                               (Facebook Messenger)   \n",
       "...                    ...                                                ...   \n",
       "1175  (Facebook Messenger)    (YouTube, Google Maps, Chrome, Facebook, Gmail)   \n",
       "1176         (Google Maps)  (YouTube, Facebook Messenger, Chrome, Facebook...   \n",
       "1177              (Chrome)  (YouTube, Facebook Messenger, Google Maps, Fac...   \n",
       "1178            (Facebook)  (YouTube, Facebook Messenger, Google Maps, Chr...   \n",
       "1179               (Gmail)  (YouTube, Facebook Messenger, Google Maps, Chr...   \n",
       "\n",
       "      antecedent support  consequent support   support  confidence      lift  \\\n",
       "0               0.578014            0.771868  0.460993    0.797546  1.033268   \n",
       "1               0.771868            0.578014  0.460993    0.597243  1.033268   \n",
       "2               0.578014            0.881797  0.537825    0.930470  1.055198   \n",
       "3               0.881797            0.578014  0.537825    0.609920  1.055198   \n",
       "4               0.578014            0.868794  0.517730    0.895706  1.030975   \n",
       "...                  ...                 ...       ...         ...       ...   \n",
       "1175            0.868794            0.531915  0.510638    0.587755  1.104980   \n",
       "1176            0.869976            0.563830  0.510638    0.586957  1.041017   \n",
       "1177            0.771868            0.611111  0.510638    0.661562  1.082556   \n",
       "1178            0.881797            0.522459  0.510638    0.579088  1.108391   \n",
       "1179            0.812057            0.588652  0.510638    0.628821  1.068238   \n",
       "\n",
       "      representativity  leverage  conviction  zhangs_metric   jaccard  \\\n",
       "0                  1.0  0.014842    1.126836       0.076298  0.518617   \n",
       "1                  1.0  0.014842    1.047744       0.141132  0.518617   \n",
       "2                  1.0  0.028134    1.700042       0.123963  0.583333   \n",
       "3                  1.0  0.028134    1.081792       0.442549  0.583333   \n",
       "4                  1.0  0.015555    1.258031       0.071198  0.557252   \n",
       "...                ...       ...         ...            ...       ...   \n",
       "1175               1.0  0.048514    1.135454       0.724099  0.573705   \n",
       "1176               1.0  0.020120    1.055991       0.303030  0.553137   \n",
       "1177               1.0  0.038941    1.149070       0.334281  0.585366   \n",
       "1178               1.0  0.049936    1.134541       0.827315  0.571429   \n",
       "1179               1.0  0.032619    1.108219       0.339885  0.573705   \n",
       "\n",
       "      certainty  kulczynski  \n",
       "0      0.112559    0.697395  \n",
       "1      0.045569    0.697395  \n",
       "2      0.411779    0.770195  \n",
       "3      0.075608    0.770195  \n",
       "4      0.205107    0.745812  \n",
       "...         ...         ...  \n",
       "1175   0.119295    0.773878  \n",
       "1176   0.053022    0.746308  \n",
       "1177   0.129731    0.748576  \n",
       "1178   0.118586    0.778232  \n",
       "1179   0.097651    0.748145  \n",
       "\n",
       "[1180 rows x 14 columns]"
      ]
     },
     "execution_count": 8,
     "metadata": {},
     "output_type": "execute_result"
    }
   ],
   "source": [
    "%%time\n",
    "te = TransactionEncoder()\n",
    "te_ary = te.fit(transactions).transform(transactions)\n",
    "df = pd.DataFrame(te_ary, columns=te.columns_)\n",
    "frequent_itemsets = apriori(df, min_support=MIN_SUPPORT, use_colnames=True)\n",
    "rules_df = association_rules(frequent_itemsets, metric=\"confidence\", min_threshold=MIN_CONFIDENCE)"
   ]
  },
  {
   "cell_type": "code",
   "execution_count": null,
   "id": "c0f4ffe9-5c2e-4745-9cd8-ea82ecbd01a1",
   "metadata": {},
   "outputs": [],
   "source": []
  }
 ],
 "metadata": {
  "kernelspec": {
   "display_name": "Python 3 (ipykernel)",
   "language": "python",
   "name": "python3"
  },
  "language_info": {
   "codemirror_mode": {
    "name": "ipython",
    "version": 3
   },
   "file_extension": ".py",
   "mimetype": "text/x-python",
   "name": "python",
   "nbconvert_exporter": "python",
   "pygments_lexer": "ipython3",
   "version": "3.12.3"
  }
 },
 "nbformat": 4,
 "nbformat_minor": 5
}
